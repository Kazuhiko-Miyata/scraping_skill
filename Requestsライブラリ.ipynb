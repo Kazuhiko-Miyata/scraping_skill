{
  "nbformat": 4,
  "nbformat_minor": 0,
  "metadata": {
    "colab": {
      "provenance": [],
      "authorship_tag": "ABX9TyPDL600bV6altZxg6ItpF32",
      "include_colab_link": true
    },
    "kernelspec": {
      "name": "python3",
      "display_name": "Python 3"
    },
    "language_info": {
      "name": "python"
    }
  },
  "cells": [
    {
      "cell_type": "markdown",
      "metadata": {
        "id": "view-in-github",
        "colab_type": "text"
      },
      "source": [
        "<a href=\"https://colab.research.google.com/github/Kazuhiko-Miyata/scraping_skill/blob/main/Requests%E3%83%A9%E3%82%A4%E3%83%96%E3%83%A9%E3%83%AA.ipynb\" target=\"_parent\"><img src=\"https://colab.research.google.com/assets/colab-badge.svg\" alt=\"Open In Colab\"/></a>"
      ]
    },
    {
      "cell_type": "markdown",
      "source": [
        "## **Requestsライブラリ**"
      ],
      "metadata": {
        "id": "vfzDoTAar1hW"
      }
    },
    {
      "cell_type": "markdown",
      "source": [
        "\n",
        "\n",
        "*   Webページの情報（HTML）を取得できるライブラリ\n",
        "*   URLにアクセスする時に必要になるライブラリ\n",
        "*   APIにアクセスできるライブラリ\n",
        "\n",
        "\n",
        "\n",
        "\n"
      ],
      "metadata": {
        "id": "Ohc3Fri2r6A1"
      }
    },
    {
      "cell_type": "markdown",
      "source": [
        "## **Pythonを使ってHTML情報を取得する**"
      ],
      "metadata": {
        "id": "Ct4T_E9TsYQx"
      }
    },
    {
      "cell_type": "code",
      "source": [
        "!pip install requests"
      ],
      "metadata": {
        "colab": {
          "base_uri": "https://localhost:8080/"
        },
        "id": "l7_HlgVpskKO",
        "outputId": "127da34d-1c18-49fb-dda2-a8bd96844073"
      },
      "execution_count": 3,
      "outputs": [
        {
          "output_type": "stream",
          "name": "stdout",
          "text": [
            "Requirement already satisfied: requests in /usr/local/lib/python3.10/dist-packages (2.31.0)\n",
            "Requirement already satisfied: charset-normalizer<4,>=2 in /usr/local/lib/python3.10/dist-packages (from requests) (3.3.2)\n",
            "Requirement already satisfied: idna<4,>=2.5 in /usr/local/lib/python3.10/dist-packages (from requests) (3.6)\n",
            "Requirement already satisfied: urllib3<3,>=1.21.1 in /usr/local/lib/python3.10/dist-packages (from requests) (2.0.7)\n",
            "Requirement already satisfied: certifi>=2017.4.17 in /usr/local/lib/python3.10/dist-packages (from requests) (2024.2.2)\n"
          ]
        }
      ]
    },
    {
      "cell_type": "code",
      "source": [
        "import requests # モジュールのインポート"
      ],
      "metadata": {
        "id": "pU6fMOCPsspa"
      },
      "execution_count": 4,
      "outputs": []
    },
    {
      "cell_type": "markdown",
      "source": [
        "### **Pythonの公式ページにアクセス**"
      ],
      "metadata": {
        "id": "iYQqJNlRtNQ7"
      }
    },
    {
      "cell_type": "code",
      "source": [
        "# 変数urlに、Python公式ページのURLを代入する(文字列で入れる)\n",
        "\n",
        "url = 'https://www.python.org/'\n",
        "\n",
        "# 変数rにリクエスト結果を代入する\n",
        "\n",
        "r = requests.get(url)"
      ],
      "metadata": {
        "id": "iTToI2EttQJk"
      },
      "execution_count": 6,
      "outputs": []
    },
    {
      "cell_type": "markdown",
      "source": [
        "\n",
        "\n",
        "1.   変数urlにPython公式ページのURLを文字列で格納\n",
        "2.   **<font color=\"blue\">requests.get()</font>**を使って、Python公式ページにアクセス\n",
        "\n",
        "1.   変数rにアクセスした結果を保存\n",
        "\n",
        "\n",
        "\n",
        "\n",
        "\n",
        "\n"
      ],
      "metadata": {
        "id": "cheTURUquKSY"
      }
    },
    {
      "cell_type": "markdown",
      "source": [
        "### **アクセスしたURLの確認**"
      ],
      "metadata": {
        "id": "ihXcXoGguAIV"
      }
    },
    {
      "cell_type": "code",
      "source": [
        "# アクセスしたURLの確認\n",
        "\n",
        "r.url"
      ],
      "metadata": {
        "colab": {
          "base_uri": "https://localhost:8080/",
          "height": 35
        },
        "id": "RM2PDcFyuocA",
        "outputId": "ddb29dce-c6c4-408b-c052-49fc8f400359"
      },
      "execution_count": 10,
      "outputs": [
        {
          "output_type": "execute_result",
          "data": {
            "text/plain": [
              "'https://www.python.org/'"
            ],
            "application/vnd.google.colaboratory.intrinsic+json": {
              "type": "string"
            }
          },
          "metadata": {},
          "execution_count": 10
        }
      ]
    },
    {
      "cell_type": "markdown",
      "source": [
        "print()で囲うと人が見やすい状態のアクセスできるURLで表示してくれる。<br>囲わなかった場合は'https://www.python.org/'\n",
        "とコンピュータがわかりやすいように表示する。"
      ],
      "metadata": {
        "id": "NWUFPPV2u-3e"
      }
    },
    {
      "cell_type": "markdown",
      "source": [
        "### **ステータスコードを確認**\n",
        "たまにホームページを開いた時、403などと表示されることがある。<br>その数字をステータスコードと呼ぶ。\n",
        "\n",
        "<br>requestsもネットワーク通信しているため**、<font color=\"blue\">r.status.code</font>**を使えばステータスコードを確認できる。"
      ],
      "metadata": {
        "id": "pNuj5x0NvtsA"
      }
    },
    {
      "cell_type": "code",
      "source": [
        "# リクエストした時のステータスコードを確認する\n",
        "\n",
        "print(r.status_code)"
      ],
      "metadata": {
        "colab": {
          "base_uri": "https://localhost:8080/"
        },
        "id": "rlMhKsRRwX5U",
        "outputId": "d4e2f7b9-6aa3-4a70-8f18-49d5899456b9"
      },
      "execution_count": 11,
      "outputs": [
        {
          "output_type": "stream",
          "name": "stdout",
          "text": [
            "200\n"
          ]
        }
      ]
    },
    {
      "cell_type": "markdown",
      "source": [
        "200は「アクセスに成功した」ことを表す。\n",
        "\n",
        "<br>逆にエラーになったときは、400〜499の数字だったり、500〜〜599の数字が返ってくる。<br>この2つの違いは以下の通り。\n",
        "\n",
        "\n",
        "\n",
        "\n",
        "*   **400〜499**:クライアント側のエラー（アクセスしようとしている人に問題あり）\n",
        "*   **500〜599**:サーバー側のエラー（アクセス先に問題あり）\n",
        "\n",
        "<br><br>ステータスコードは以下の使い方をする。"
      ],
      "metadata": {
        "id": "XRYq01SFwseu"
      }
    },
    {
      "cell_type": "code",
      "source": [
        "if r.status_code == 200:\n",
        "  print('アクセスに成功した時の処理')\n",
        "else:\n",
        "  raise\n",
        "  print()"
      ],
      "metadata": {
        "colab": {
          "base_uri": "https://localhost:8080/"
        },
        "id": "BR9SL_oKxh9d",
        "outputId": "89f03e40-65b6-434f-d168-8b54f25c4578"
      },
      "execution_count": 13,
      "outputs": [
        {
          "output_type": "stream",
          "name": "stdout",
          "text": [
            "アクセスに成功した時の処理\n"
          ]
        }
      ]
    },
    {
      "cell_type": "markdown",
      "source": [
        "これは「アクセスに成功したらprint()関数を実行して、それ以外だったらraiseで意図的にエラーを返す」という意味。raiseの部分はログの出力だけでもよい。"
      ],
      "metadata": {
        "id": "sXiIKAY2x7aH"
      }
    },
    {
      "cell_type": "markdown",
      "source": [
        "### **リクエスト結果の取得**\n",
        "Python公式ページの情報を取得するためには、**<font color=\"blue\">r.text</font>**を使う。"
      ],
      "metadata": {
        "id": "wShMMh5TyULl"
      }
    },
    {
      "cell_type": "code",
      "source": [
        "# リクエスト結果の取得\n",
        "\n",
        "print(r.text)"
      ],
      "metadata": {
        "id": "FdFIFclwyk-5"
      },
      "execution_count": null,
      "outputs": []
    },
    {
      "cell_type": "markdown",
      "source": [
        "結果は**Python公式のHTML情報**。\n",
        "\n",
        "<br>つまりス「クレイピングに必要なデータをWeb上から取得できた」ということになる。\n",
        "\n",
        "<br>スクレイピングに必要な手順をおさらいすると、以下の手順になっていた。\n",
        "\n",
        "\n",
        "1.  **RequestsでHTMLを取得する**\n",
        "\n",
        "1.   **取得したHTMLを解析する（BeutifulSoup）**\n",
        "2.   **自分が欲しい情報を取得する**\n",
        "\n",
        "r.textを使うことで、スクレイピングで必要な手順①が完了したということになる。\n",
        "\n",
        "\n",
        "<br>ただ、現状だとHTMLを取得しただけで、必要な情報を取り出すことが難しい。\n",
        "\n",
        "<br>例えば。「Get Started や Downloadなどの文字列を取得した」といったとき、まるは'**Pythonで簡単に取り扱える状態にする**'必要がある。\n",
        "\n",
        "\n",
        "<br>そのために行うのがHTMLの解析で、PythonでHTMLを解析するためには**<font color=\"blue\">BeutifulSoup</font>**というライブラリが必要となる。\n",
        "\n",
        "\n",
        "\n",
        "\n"
      ],
      "metadata": {
        "id": "tX2XKY7Qyw-n"
      }
    },
    {
      "cell_type": "markdown",
      "source": [
        "### **上記コードまとめ**"
      ],
      "metadata": {
        "id": "Ea3Cqju308st"
      }
    },
    {
      "cell_type": "code",
      "source": [
        "import requests # ライブラリのインポート\n",
        "\n",
        "url = 'https://www.python.org/' # 変数urlにPython公式ページのURLを格納\n",
        "r = requests.get(url) # 変数rにリクエスト結果を格納"
      ],
      "metadata": {
        "id": "5ZKLFDmN1DfE"
      },
      "execution_count": 23,
      "outputs": []
    },
    {
      "cell_type": "code",
      "source": [
        "r.url # アクセスしたURLの確認"
      ],
      "metadata": {
        "colab": {
          "base_uri": "https://localhost:8080/",
          "height": 35
        },
        "id": "fpR9ZjIa22Hb",
        "outputId": "ab4e9ec2-4d69-49b2-8b97-708353c99050"
      },
      "execution_count": 24,
      "outputs": [
        {
          "output_type": "execute_result",
          "data": {
            "text/plain": [
              "'https://www.python.org/'"
            ],
            "application/vnd.google.colaboratory.intrinsic+json": {
              "type": "string"
            }
          },
          "metadata": {},
          "execution_count": 24
        }
      ]
    },
    {
      "cell_type": "code",
      "source": [
        "r.url # アクセスしたURLの確認"
      ],
      "metadata": {
        "colab": {
          "base_uri": "https://localhost:8080/"
        },
        "id": "QuH1sidt2-dy",
        "outputId": "15b4c6c5-eee2-4580-f0b2-8da1770878ec"
      },
      "execution_count": 25,
      "outputs": [
        {
          "output_type": "stream",
          "name": "stdout",
          "text": [
            "200\n"
          ]
        }
      ]
    },
    {
      "cell_type": "code",
      "source": [
        "if r.status_code == 200:  # アクセスに成功したらprint()関数を実行して、それ以外だったらraiseで意図的にエラーを返す\n",
        "  print('アクセスに成功した時の処理を実行')\n",
        "else:\n",
        "  raise"
      ],
      "metadata": {
        "colab": {
          "base_uri": "https://localhost:8080/"
        },
        "id": "ZiUhfYd52CdT",
        "outputId": "676a7f96-ba6f-41c7-c1cc-c2c375dd946c"
      },
      "execution_count": 26,
      "outputs": [
        {
          "output_type": "stream",
          "name": "stdout",
          "text": [
            "アクセスに成功した時の処理を実行\n"
          ]
        }
      ]
    },
    {
      "cell_type": "code",
      "source": [
        "print(r.text) # リクエスト結果の取得"
      ],
      "metadata": {
        "id": "1Ko8ljBf26Yl"
      },
      "execution_count": null,
      "outputs": []
    }
  ]
}